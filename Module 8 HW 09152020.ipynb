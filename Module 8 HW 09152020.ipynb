{
 "cells": [
  {
   "cell_type": "markdown",
   "metadata": {},
   "source": [
    "# Inheritance Exercise"
   ]
  },
  {
   "cell_type": "markdown",
   "metadata": {},
   "source": [
    "Complete the following exercise and upload your script\n",
    "\n",
    "\n",
    "You are given two classes, Person and Student, where Person is the base class and Student is the derived class. Completed code for Person and a declaration for Student are provided for you in the editor. Observe that Student inherits all the properties of Person.\n",
    "\n",
    "Complete the Student class by writing the following:\n",
    "A Student class constructor, which has 4 parameters:\n",
    "- A string, firstName\n",
    "- A string, lastName\n",
    "- An integer, id\n",
    "An integer array (or vector) of test scores, scores\n",
    "\n",
    "A char calculate() method that calculates a Student object's average and returns the grade character representative of their calculated average:\n",
    "A | 90-100\n",
    "B | 80-89\n",
    "C | 70-79\n",
    "D | 60-69\n",
    "F | <60"
   ]
  },
  {
   "cell_type": "code",
   "execution_count": 3,
   "metadata": {},
   "outputs": [
    {
     "name": "stdout",
     "output_type": "stream",
     "text": [
      "First name:J\n",
      "Last name:A\n",
      "ID:101\n",
      "Scores(ENTER AS A SPACE SEPARATED LIST):10 20 30 40 50 60 70 80 90 100\n",
      "Add another student?(y/n)n\n",
      "F\n"
     ]
    }
   ],
   "source": [
    "class Person():\n",
    "    def __init__(self, firstname, lastname):\n",
    "        self.firstname = firstname\n",
    "        self.lastname = lastname\n",
    "    \n",
    "class Student(Person):\n",
    "    def __init__(self, firstname, lastname, ID, grades):\n",
    "        self.id = ID\n",
    "        self.grades = grades\n",
    "        super().__init__(firstname, lastname)\n",
    "    \n",
    "    def calculate(self):\n",
    "        self.grades = list(map(int, self.grades))\n",
    "        self.avg = sum(self.grades)/len(self.grades)\n",
    "        \n",
    "        if self.avg >= 90:\n",
    "            print('A')\n",
    "        elif self.avg < 90 and self.avg >= 80:\n",
    "            print('B')\n",
    "        elif self.avg >= 70 and self.avg < 80:\n",
    "            print('C')\n",
    "        elif self.avg >= 60 and self.avg < 70:\n",
    "            print('D')\n",
    "        else: #self.avg < 60:\n",
    "            print('F')\n",
    "            \n",
    "listOfStudents = []\n",
    "cont = \"y\"\n",
    "while(cont == \"y\"):\n",
    "    listOfStudents.append(Student(input(\"First name:\"), input(\"Last name:\"), input(\n",
    "        \"ID:\"), input(\"Scores(ENTER AS A SPACE SEPARATED LIST):\").split()))\n",
    "    cont = input(\"Add another student?(y/n)\")\n",
    "for i in listOfStudents:\n",
    "    i.calculate()"
   ]
  },
  {
   "cell_type": "code",
   "execution_count": null,
   "metadata": {},
   "outputs": [],
   "source": []
  }
 ],
 "metadata": {
  "kernelspec": {
   "display_name": "Python 3",
   "language": "python",
   "name": "python3"
  },
  "language_info": {
   "codemirror_mode": {
    "name": "ipython",
    "version": 3
   },
   "file_extension": ".py",
   "mimetype": "text/x-python",
   "name": "python",
   "nbconvert_exporter": "python",
   "pygments_lexer": "ipython3",
   "version": "3.8.3"
  }
 },
 "nbformat": 4,
 "nbformat_minor": 4
}
